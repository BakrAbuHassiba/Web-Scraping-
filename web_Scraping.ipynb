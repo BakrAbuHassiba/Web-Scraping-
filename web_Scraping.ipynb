{
 "cells": [
  {
   "cell_type": "code",
   "execution_count": 22,
   "metadata": {},
   "outputs": [
    {
     "name": "stdout",
     "output_type": "stream",
     "text": [
      "Please enter a date in the following format MM/DD/YYYY: 9/8/2023\n",
      "Match details have been scraped and saved to web Scraping.csv.\n"
     ]
    }
   ],
   "source": [
    "import requests\n",
    "from bs4 import BeautifulSoup as bs\n",
    "import csv\n",
    "\n",
    "date = input('Please enter a date in the following format MM/DD/YYYY: ')\n",
    "page = requests.get(f\"https://www.yallakora.com/match-center/%D9%85%D8%B1%D9%83%D8%B2-%D8%A7%D9%84%D9%85%D8%A8%D8%A7%D8%B1%D9%8A%D8%A7%D8%AA?date={date}#\")\n",
    "src = page.content\n",
    "soup = bs(src, \"lxml\")\n",
    "matches_details = []\n",
    "\n",
    "championships = soup.find_all(\"div\", {\"class\": \"matchCard\"})\n",
    "\n",
    "if championships:\n",
    "    for championship in championships:\n",
    "        championship_title = championship.find(\"h2\").text.strip()\n",
    "        matches = championship.find_all('li')\n",
    "        number_of_matches=len(matches)\n",
    "        \n",
    "        for i in range(number_of_matches):\n",
    "            team_A = matches[i].find('div', {'class': 'teamA'}).text.strip()\n",
    "            team_B = matches[i].find('div', {'class': 'teamB'}).text.strip()\n",
    "            \n",
    "            match_result = matches[i].find('div', {'class': 'MResult'}).find_all('span',{'class':'score'})    \n",
    "            score_A= match_result[0].text.strip()\n",
    "            score_B=match_result[1].text.strip()\n",
    "            if score_A > score_B :\n",
    "                Winner=team_A\n",
    "            elif score_B> score_A:\n",
    "                Winner=team_B\n",
    "            elif score_A=='-':\n",
    "                Winner='Not Played Yet'\n",
    "            else:\n",
    "                Winner='Draw'\n",
    "             \n",
    "            match_time_element = matches[i].find('div', {'class': 'MResult'})\n",
    "            match_time = match_time_element.find('span', {'class': 'time'}).text.strip()\n",
    "\n",
    "            matches_details.append({\n",
    "                \"Championship Title\": championship_title,\n",
    "                \"Team A\": team_A,\n",
    "                \"Team B\": team_B,\n",
    "                \"Match Time\": match_time,\n",
    "                \"Score Team A\": score_A,\n",
    "                \"Score Team B\": score_B,\n",
    "                \"Winner\": Winner\n",
    "            })\n",
    "\n",
    "    keys = matches_details[0].keys()\n",
    "    file_path = 'web Scraping.csv'\n",
    "\n",
    "    with open(file_path, 'w', newline='', encoding='utf-8-sig') as output_file:\n",
    "        dict_writer = csv.DictWriter(output_file, keys)\n",
    "        dict_writer.writeheader()\n",
    "        dict_writer.writerows(matches_details)\n",
    "\n",
    "    print(f\"Match details have been scraped and saved to {file_path}.\")\n",
    "else:\n",
    "    print(\"No match details found for the given date.\")"
   ]
  },
  {
   "cell_type": "code",
   "execution_count": null,
   "metadata": {},
   "outputs": [],
   "source": []
  },
  {
   "cell_type": "code",
   "execution_count": null,
   "metadata": {},
   "outputs": [],
   "source": []
  },
  {
   "cell_type": "code",
   "execution_count": null,
   "metadata": {},
   "outputs": [],
   "source": []
  },
  {
   "cell_type": "code",
   "execution_count": null,
   "metadata": {},
   "outputs": [],
   "source": []
  },
  {
   "cell_type": "code",
   "execution_count": 10,
   "metadata": {},
   "outputs": [
    {
     "name": "stdout",
     "output_type": "stream",
     "text": [
      "Please enter a date in the following format MM/DD/YYYY: 9/8/2023\n",
      "Match details have been scraped and saved to F:\\IEEE\\WebScrapping\\secooooo.csv.\n"
     ]
    }
   ],
   "source": []
  },
  {
   "cell_type": "code",
   "execution_count": 9,
   "metadata": {},
   "outputs": [],
   "source": []
  },
  {
   "cell_type": "code",
   "execution_count": null,
   "metadata": {},
   "outputs": [],
   "source": []
  }
 ],
 "metadata": {
  "kernelspec": {
   "display_name": "Python 3",
   "language": "python",
   "name": "python3"
  },
  "language_info": {
   "codemirror_mode": {
    "name": "ipython",
    "version": 3
   },
   "file_extension": ".py",
   "mimetype": "text/x-python",
   "name": "python",
   "nbconvert_exporter": "python",
   "pygments_lexer": "ipython3",
   "version": "3.8.3"
  }
 },
 "nbformat": 4,
 "nbformat_minor": 4
}
